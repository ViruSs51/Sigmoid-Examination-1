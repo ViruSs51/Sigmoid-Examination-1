{
 "cells": [
  {
   "cell_type": "markdown",
   "metadata": {},
   "source": [
    "# Training and Validation Model\n",
    "\n",
    "În acest notebook am implementat în mare parte clase personalizate pentru pipeline, pentru a automatiza procesele de prelucrare a datelor. Unele prelucrări le-am scos în afara pipeline-ului din motivul că așa este mai rapid.\n",
    "\n",
    "După aceea, am antrenat diverse modele pentru a determina care este cel mai bun pentru acest dataset (modelele neutilizabile le-am șters din notebook).\n",
    "\n",
    "În plus, pe lângă modelul principal, aș menționa că utilizez RandomForestRegressor pentru completarea valorilor NaN în coloanele rooms, surface_total și surface_covered.\n"
   ]
  },
  {
   "cell_type": "code",
   "execution_count": 380,
   "metadata": {},
   "outputs": [],
   "source": [
    "import numpy as np\n",
    "import pandas as pd\n",
    "import matplotlib.pyplot as plt\n",
    "from sklearn.model_selection import train_test_split\n",
    "from sklearn.preprocessing import OneHotEncoder\n",
    "from sklearn.ensemble import RandomForestRegressor\n",
    "from sklearn.metrics import (\n",
    "    r2_score,\n",
    "    mean_absolute_error,\n",
    "    mean_absolute_percentage_error,\n",
    ")\n",
    "from tqdm import tqdm\n",
    "from sklearn.pipeline import Pipeline\n",
    "from sklearn.base import BaseEstimator, TransformerMixin, RegressorMixin\n",
    "from sklearn.model_selection import RandomizedSearchCV\n",
    "from lightgbm import LGBMRegressor\n",
    "from lightgbm.callback import early_stopping, log_evaluation\n",
    "from sklearn.metrics import mean_squared_error"
   ]
  },
  {
   "cell_type": "code",
   "execution_count": 381,
   "metadata": {},
   "outputs": [],
   "source": [
    "class CleanNaN(BaseEstimator, TransformerMixin):\n",
    "    def __init__(self, columns: list[str], fillna=None):\n",
    "        self.cols = columns\n",
    "        self.fillna = fillna\n",
    "\n",
    "    def fit(self, X, y=None):\n",
    "        return self\n",
    "\n",
    "    def transform(self, X):\n",
    "        X = X.copy()\n",
    "\n",
    "        if self.fillna is None:\n",
    "            mask = X[self.cols].isna().all(axis=1)\n",
    "\n",
    "            return X.loc[~mask].copy()\n",
    "\n",
    "        elif self.fillna == \"median\":\n",
    "            for col in self.cols:\n",
    "                X[col] = X[col].fillna(X[col].median())\n",
    "\n",
    "        else:\n",
    "            for col in self.cols:\n",
    "                X[col] = X[col].fillna(self.fillna)\n",
    "\n",
    "        return X"
   ]
  },
  {
   "cell_type": "code",
   "execution_count": 382,
   "metadata": {},
   "outputs": [],
   "source": [
    "class DropInutilColumns(BaseEstimator, TransformerMixin):\n",
    "    def __init__(self, columns: list[str]):\n",
    "        self.cols = columns\n",
    "\n",
    "    def fit(self, X, y=None):\n",
    "        return self\n",
    "\n",
    "    def transform(self, X):\n",
    "        return X.drop(columns=self.cols, axis=1)"
   ]
  },
  {
   "cell_type": "code",
   "execution_count": 383,
   "metadata": {},
   "outputs": [],
   "source": [
    "class ToDateTime(BaseEstimator, TransformerMixin):\n",
    "    def __init__(self, columns: list[str]):\n",
    "        self.cols = columns\n",
    "\n",
    "    def fit(self, X, y=None):\n",
    "        return self\n",
    "\n",
    "    def to_datetime(self, X, y=None):\n",
    "        X = X.copy()\n",
    "\n",
    "        for col in self.cols:\n",
    "            X[col] = pd.to_datetime(X[col], errors=\"coerce\")\n",
    "\n",
    "        return X\n",
    "\n",
    "    def transform(self, X):\n",
    "        X = X.copy()\n",
    "\n",
    "        X = self.to_datetime(X)\n",
    "        X[self.cols] = X[self.cols].fillna(-1)\n",
    "        X = self.to_datetime(X)\n",
    "\n",
    "        return X"
   ]
  },
  {
   "cell_type": "code",
   "execution_count": 384,
   "metadata": {},
   "outputs": [],
   "source": [
    "class Preprocessor(BaseEstimator, TransformerMixin):\n",
    "    def __init__(\n",
    "        self, columns: list[str], encoder_type: str = \"one-hot\", new_values=None\n",
    "    ):\n",
    "        self.cols = columns\n",
    "        self.type = encoder_type\n",
    "        self.new_values = new_values\n",
    "        self.encoder = OneHotEncoder(drop=None, sparse_output=False)\n",
    "\n",
    "    def fit(self, X, y=None):\n",
    "        return self\n",
    "\n",
    "    def transform(self, X):\n",
    "        X = X.copy()\n",
    "\n",
    "        if self.type == \"one-hot\":\n",
    "            encoded_data = self.encoder.fit_transform(X[self.cols])\n",
    "            encoded_data = pd.DataFrame(\n",
    "                encoded_data,\n",
    "                columns=self.encoder.get_feature_names_out(self.cols),\n",
    "                index=X.index,\n",
    "            )\n",
    "\n",
    "            X = pd.concat([X, encoded_data], axis=1)\n",
    "\n",
    "            return X.drop(self.cols, axis=1)\n",
    "\n",
    "        elif self.type == \"manual\":\n",
    "            for col, value in zip(self.cols, self.new_values):\n",
    "                X[col] = X[col].replace(value)\n",
    "\n",
    "            return X"
   ]
  },
  {
   "cell_type": "code",
   "execution_count": 385,
   "metadata": {},
   "outputs": [],
   "source": [
    "class Categorize(BaseEstimator, TransformerMixin):\n",
    "    def __init__(self, columns: list[str], threshold: int, new_category: str):\n",
    "        self.cols = columns\n",
    "        self.threshold = (threshold,)\n",
    "        self.new_category = new_category\n",
    "\n",
    "    def fit(self, X, y=None):\n",
    "        return self\n",
    "\n",
    "    def transform(self, X):\n",
    "        X = X.copy()\n",
    "\n",
    "        for col in self.cols:\n",
    "            counts = X[col].value_counts()\n",
    "\n",
    "            X[col] = X[col].map(\n",
    "                lambda x: x if counts[x] >= self.threshold else self.new_category\n",
    "            )\n",
    "            X[col] = X[col].astype(\"category\").cat.codes\n",
    "\n",
    "        return X"
   ]
  },
  {
   "cell_type": "code",
   "execution_count": 386,
   "metadata": {},
   "outputs": [],
   "source": [
    "class ConditionDrop(BaseEstimator, TransformerMixin):\n",
    "    def __init__(self, columns, conditions, type: str = \"drop\"):\n",
    "        self.cols = columns\n",
    "        self.conditions = conditions\n",
    "        self.type = type\n",
    "\n",
    "    def fit(self, X, y=None):\n",
    "        return self\n",
    "\n",
    "    def transform(self, X):\n",
    "        X = X.copy()\n",
    "\n",
    "        for col, condition in zip(self.cols, self.conditions):\n",
    "            if self.type == \"drop\":\n",
    "                X = X.drop(X[condition(X, col)].index, axis=0)\n",
    "\n",
    "            elif self.type == \"drop-one\":\n",
    "                X = X.drop(X[condition(X, self.cols[0], self.cols[1])].index, axis=0)\n",
    "                break\n",
    "\n",
    "            elif self.type == \"fill\":\n",
    "                X[col] = X[col].apply(condition)\n",
    "\n",
    "            elif self.type == \"setou\":\n",
    "                X.loc[condition(X, col), col] = 0\n",
    "\n",
    "        return X"
   ]
  },
  {
   "cell_type": "code",
   "execution_count": 387,
   "metadata": {},
   "outputs": [],
   "source": [
    "condition1 = lambda X, col: X[col] > 8\n",
    "condition2 = lambda X, col: X[col] > 6\n",
    "condition3 = lambda X, col: X[col] > 5\n",
    "condition4 = lambda x: 0 if x < 0 else x\n",
    "condition5 = lambda X, col: X[col] < 0\n",
    "condition6 = lambda X, col1, col2: X[col1] > X[col2]"
   ]
  },
  {
   "cell_type": "code",
   "execution_count": 388,
   "metadata": {},
   "outputs": [],
   "source": [
    "class Combine(BaseEstimator, TransformerMixin):\n",
    "    def __init__(self, columns, type: str = \"median\"):\n",
    "        self.cols = columns\n",
    "        self.type = type\n",
    "\n",
    "    def fit(self, X, y=None):\n",
    "        return self\n",
    "\n",
    "    def transform(self, X):\n",
    "        X = X.copy()\n",
    "\n",
    "        if self.type == \"median\":\n",
    "            X[self.cols[0]] = X[self.cols].median(axis=1)\n",
    "            X = X.drop(self.cols[1:], axis=1)\n",
    "\n",
    "        return X"
   ]
  },
  {
   "cell_type": "code",
   "execution_count": 389,
   "metadata": {},
   "outputs": [],
   "source": [
    "class CustomRandomForestRegressor(BaseEstimator, RegressorMixin):\n",
    "    def __init__(\n",
    "        self,\n",
    "        colna,\n",
    "        n_estimators,\n",
    "        max_depth,\n",
    "        min_samples_split,\n",
    "        min_samples_leaf,\n",
    "        max_features,\n",
    "    ):\n",
    "        self.colna = colna\n",
    "        self.n_estimators = n_estimators\n",
    "        self.max_depth = max_depth\n",
    "        self.min_samples_split = min_samples_split\n",
    "        self.min_samples_leaf = min_samples_leaf\n",
    "        self.max_features = max_features\n",
    "        self.random_state = 42\n",
    "        self.n_jobs = -1\n",
    "\n",
    "        self.model = RandomForestRegressor(\n",
    "            n_estimators=self.n_estimators,\n",
    "            max_depth=self.max_depth,\n",
    "            min_samples_split=self.min_samples_split,\n",
    "            min_samples_leaf=self.min_samples_leaf,\n",
    "            max_features=self.max_features,\n",
    "            random_state=self.random_state,\n",
    "            n_jobs=self.n_jobs,\n",
    "        )\n",
    "\n",
    "    def fit(self, X, y):\n",
    "        X, y = X.copy(), y.copy()\n",
    "        notna_X = X[X[self.colna].notna().all(axis=1)]\n",
    "        self.isna_X = X[y.isna()]\n",
    "        X2 = notna_X.copy()\n",
    "        y2 = y[X2.index]\n",
    "        self.X_train, self.X_test, self.y_train, self.y_test = train_test_split(\n",
    "            X2, y2, test_size=0.3, random_state=42\n",
    "        )\n",
    "\n",
    "        self.model.fit(self.X_train, self.y_train)\n",
    "\n",
    "        self.y_pred = self.model.predict(self.X_test)\n",
    "        self.r2 = r2_score(self.y_test, self.y_pred)\n",
    "        self.mae = mean_absolute_error(self.y_test, self.y_pred)\n",
    "        self.mape = mean_absolute_percentage_error(self.y_test, self.y_pred)\n",
    "\n",
    "        print(f\"R2: {self.r2}; MAE: {self.mae}; MAPE: {self.mape};\")\n",
    "        print(\"---------\")\n",
    "\n",
    "        return self\n",
    "\n",
    "    def predict(self, X):\n",
    "        return self.model.predict(self.isna_X)\n",
    "\n",
    "    def score(self, X, y):\n",
    "        return self.model.score(X, y)"
   ]
  },
  {
   "cell_type": "code",
   "execution_count": 390,
   "metadata": {},
   "outputs": [],
   "source": [
    "def predict_na(\n",
    "    df: pd.DataFrame,\n",
    "    targets: list[str],\n",
    "    colna: list[str],\n",
    "    n_estimators: int = 200,\n",
    "    max_depth: int = None,\n",
    "    min_samples_split: int = 5,\n",
    "    min_samples_leaf: int = 1,\n",
    "    max_features: int | float | str = \"sqrt\",\n",
    ") -> pd.DataFrame:\n",
    "    cdf = df.copy()\n",
    "\n",
    "    notna_cdf = cdf[cdf[colna].notna().all(axis=1)]\n",
    "    for t in tqdm(targets):\n",
    "        isna_cdf = cdf[cdf[t].isna()]\n",
    "        X = notna_cdf.drop(t, axis=1)\n",
    "        y = notna_cdf[t]\n",
    "        X_train, X_test, y_train, y_test = train_test_split(\n",
    "            X, y, test_size=0.3, random_state=42\n",
    "        )\n",
    "\n",
    "        model = RandomForestRegressor(\n",
    "            n_estimators=n_estimators,\n",
    "            max_depth=max_depth,\n",
    "            min_samples_split=min_samples_split,\n",
    "            min_samples_leaf=min_samples_leaf,\n",
    "            max_features=max_features,\n",
    "            random_state=42,\n",
    "            n_jobs=-1,\n",
    "        )\n",
    "        model.fit(X_train, y_train)\n",
    "\n",
    "        y_pred = model.predict(X_test)\n",
    "        r2 = r2_score(y_test, y_pred)\n",
    "        mae = mean_absolute_error(y_test, y_pred)\n",
    "        mape = mean_absolute_percentage_error(y_test, y_pred)\n",
    "\n",
    "        print(f\"R2: {r2}; MAE: {mae}; MAPE: {mape};\")\n",
    "        print(\"---------\")\n",
    "\n",
    "        X = isna_cdf.drop(t, axis=1)\n",
    "\n",
    "        cdf.loc[isna_cdf.index, t] = model.predict(X)\n",
    "\n",
    "    return cdf[targets]"
   ]
  },
  {
   "cell_type": "code",
   "execution_count": 391,
   "metadata": {},
   "outputs": [],
   "source": [
    "def show_boxplots(df: pd.DataFrame, rows: int = 3, cols: int = 3):\n",
    "    fig, axs = plt.subplots(rows, cols, figsize=(cols * 5, cols * 3))\n",
    "\n",
    "    for i in tqdm(range(cols)):\n",
    "        for i2, c in tqdm(enumerate(df.iloc[:, cols * i : cols * (i + 1)].columns)):\n",
    "            axs[i2, i].boxplot(df[c])\n",
    "            axs[i2, i].set_title(c)\n",
    "\n",
    "    plt.tight_layout()\n",
    "    plt.show()"
   ]
  },
  {
   "cell_type": "code",
   "execution_count": 392,
   "metadata": {},
   "outputs": [],
   "source": [
    "pd.set_option(\"display.max_columns\", 50)"
   ]
  },
  {
   "cell_type": "code",
   "execution_count": 393,
   "metadata": {},
   "outputs": [],
   "source": [
    "df = pd.read_csv(\"data.csv\")"
   ]
  },
  {
   "cell_type": "code",
   "execution_count": 394,
   "metadata": {},
   "outputs": [],
   "source": [
    "X = df.drop([\"price\"], axis=1)\n",
    "y = df[\"price\"]"
   ]
  },
  {
   "cell_type": "code",
   "execution_count": 395,
   "metadata": {},
   "outputs": [],
   "source": [
    "X_train, X_temp, y_train, y_temp = train_test_split(\n",
    "    X, y, test_size=0.3, random_state=42\n",
    ")\n",
    "\n",
    "X_val, X_test, y_val, y_test = train_test_split(\n",
    "    X_temp, y_temp, test_size=0.5, random_state=42\n",
    ")"
   ]
  },
  {
   "cell_type": "code",
   "execution_count": 396,
   "metadata": {},
   "outputs": [],
   "source": [
    "columns_for_clean = ['lat', 'lon', 'l3', 'l4', 'l5', 'rooms', 'bedrooms', 'bathrooms', 'surface_total', 'surface_covered', 'currency', 'price_period']\n",
    "inutil_columns = ['id', 'ad_type', 'l4', 'l5', 'l6', 'title', 'description', 'price_period']\n",
    "date_columns = ['start_date', 'end_date', 'created_on']\n",
    "for_one_hot = ['l1', 'property_type']\n",
    "for_manual, values = ['operation_type'], [{\n",
    "    'Venta': 0,\n",
    "    'Alquiler': 1,\n",
    "    'Alquiler temporal': 2\n",
    "}]\n",
    "fillna_columns = ['currency']\n",
    "for_manual2, values2 = ['currency'], [{\n",
    "    'USD': 1,\n",
    "    'ARS': 2,\n",
    "    'UYU': 3,\n",
    "    'PEN': 4\n",
    "}]\n",
    "categorize_columns, threshold, new_category = ['l2'], 2000, 'Other'\n",
    "fillna_columns2 = ['l3']\n",
    "categorize_columns2, threshold2, new_category2 = ['l3'], 600, 'Other'\n",
    "condition_columns, conditions = ['rooms', 'bedrooms', 'bathrooms'], [condition1, condition2, condition3]\n",
    "condition_columns2, conditions2 = ['bedrooms'], [condition4]\n",
    "combine_median_columns = ['rooms', 'bedrooms', 'bathrooms']\n",
    "fill_median_columns = ['lat', 'lon']\n",
    "condition_columns3, conditions3 = ['surface_total', 'surface_covered'], [condition5, condition5]\n",
    "condition_columns4, conditions4 = ['surface_covered', 'surface_total'], [condition6, condition6]\n",
    "\n",
    "\n",
    "pipeline = Pipeline([\n",
    "    ('cleanna', CleanNaN(columns=columns_for_clean)),\n",
    "    ('drop_inutil', DropInutilColumns(columns=inutil_columns)),\n",
    "    ('convert_date', ToDateTime(columns=date_columns)),\n",
    "    ('one_hot_encoder', Preprocessor(columns=for_one_hot)),\n",
    "    ('manual_encoder', Preprocessor(columns=for_manual, encoder_type='manual', new_values=values)),\n",
    "    ('fillna1', CleanNaN(fillna_columns, 0)),\n",
    "    ('manual_encoder2', Preprocessor(columns=for_manual2, encoder_type='manual', new_values=values2)),\n",
    "    ('categorize', Categorize(columns=categorize_columns, threshold=threshold, new_category=new_category)),\n",
    "    ('fillna2', CleanNaN(fillna_columns2, 'Missing')),\n",
    "    ('categorize2', Categorize(columns=categorize_columns2, threshold=threshold2, new_category=new_category2)),\n",
    "    ('condition_drop', ConditionDrop(columns=condition_columns, conditions=conditions)),\n",
    "    ('condition_drop2', ConditionDrop(columns=condition_columns2, conditions=conditions2, type='fill')),\n",
    "    ('combine_median', Combine(columns=combine_median_columns)),\n",
    "    ('fillna3', CleanNaN(fill_median_columns, 'median')),\n",
    "    ('condition_drop3', ConditionDrop(columns=condition_columns3, conditions=conditions3, type='setou')),\n",
    "    ('condition_drop4', ConditionDrop(columns=condition_columns4, conditions=conditions4, type='drop-one')),\n",
    "])"
   ]
  },
  {
   "cell_type": "code",
   "execution_count": 397,
   "metadata": {},
   "outputs": [],
   "source": [
    "def procesing_y(X, y):\n",
    "    X, y = X.copy(), y.copy()\n",
    "    y = y[X.index]\n",
    "\n",
    "    X = X.drop(y[y.isna()].index, axis=0)\n",
    "    y = y.drop(y[y.isna()].index, axis=0)\n",
    "\n",
    "    X[\"surface_total_missing\"] = X[\"surface_total\"].isna().astype(int)\n",
    "    X[\"surface_covered_missing\"] = X[\"surface_covered\"].isna().astype(int)\n",
    "\n",
    "    temp_X = X.iloc[:, 3:]\n",
    "    temp_X[\"price\"] = y\n",
    "    X[[\"rooms\"]] = predict_na(\n",
    "        temp_X, [\"rooms\"], colna=[\"rooms\", \"surface_total\", \"surface_covered\"]\n",
    "    )\n",
    "\n",
    "    temp_X = X.iloc[:, 3:]\n",
    "    temp_X[\"price\"] = y\n",
    "    X[[\"surface_covered\"]] = predict_na(\n",
    "        temp_X,\n",
    "        [\"surface_covered\"],\n",
    "        colna=[\"surface_total\", \"surface_covered\"],\n",
    "        n_estimators=50,\n",
    "        max_depth=None,\n",
    "        min_samples_split=2,\n",
    "        min_samples_leaf=1,\n",
    "        max_features=\"sqrt\",\n",
    "    )\n",
    "\n",
    "    temp_X = X.iloc[:, 3:]\n",
    "    temp_X[\"price\"] = y\n",
    "    X[[\"surface_total\"]] = predict_na(\n",
    "        temp_X,\n",
    "        [\"surface_total\"],\n",
    "        colna=[\"surface_total\", \"surface_covered\"],\n",
    "        n_estimators=50,\n",
    "        max_depth=20,\n",
    "        min_samples_split=5,\n",
    "        min_samples_leaf=1,\n",
    "        max_features=\"sqrt\",\n",
    "    )\n",
    "\n",
    "    return X.iloc[:, 5:], y"
   ]
  },
  {
   "cell_type": "code",
   "execution_count": 398,
   "metadata": {},
   "outputs": [],
   "source": [
    "def procesing(X, y):\n",
    "    X, y = procesing_y(X, y)\n",
    "\n",
    "    # For loops de mai jos elimină outliers din coloane\n",
    "    for col in [\"surface_total\", \"surface_covered\", \"rooms\", \"l2\", \"l3\"]:\n",
    "        low, high = X[col].quantile([0.01, 0.99])\n",
    "        X = X[(X[col] >= low) & (X[col] <= high)]\n",
    "        y = y.loc[X.index]\n",
    "\n",
    "    for col in [\"surface_total\", \"surface_covered\", \"rooms\"]:\n",
    "        X[col] = np.log1p(X[col])\n",
    "        y = np.log1p(y)\n",
    "\n",
    "    for i in range(5):\n",
    "        y_log = np.log1p(y)\n",
    "        lo, hi = np.percentile(y_log, [1, 99])\n",
    "\n",
    "        mask = (y_log >= lo) & (y_log <= hi)\n",
    "        X, y = X[mask], y[mask]\n",
    "\n",
    "    return X, y"
   ]
  },
  {
   "cell_type": "code",
   "execution_count": 399,
   "metadata": {},
   "outputs": [
    {
     "name": "stderr",
     "output_type": "stream",
     "text": [
      "C:\\Users\\Home\\AppData\\Local\\Temp\\ipykernel_3756\\80899401.py:30: FutureWarning: Downcasting behavior in `replace` is deprecated and will be removed in a future version. To retain the old behavior, explicitly call `result.infer_objects(copy=False)`. To opt-in to the future behavior, set `pd.set_option('future.no_silent_downcasting', True)`\n",
      "  X[col] = X[col].replace(value)\n"
     ]
    }
   ],
   "source": [
    "X_val_save = pipeline.fit_transform(X=X_val)"
   ]
  },
  {
   "cell_type": "code",
   "execution_count": 400,
   "metadata": {},
   "outputs": [
    {
     "name": "stderr",
     "output_type": "stream",
     "text": [
      "  0%|          | 0/1 [00:00<?, ?it/s]"
     ]
    },
    {
     "name": "stdout",
     "output_type": "stream",
     "text": [
      "R2: 0.749544566816774; MAE: 0.35957124254760964; MAPE: 0.18412684744868146;\n",
      "---------\n"
     ]
    },
    {
     "name": "stderr",
     "output_type": "stream",
     "text": [
      "100%|██████████| 1/1 [00:03<00:00,  3.93s/it]\n",
      "  0%|          | 0/1 [00:00<?, ?it/s]"
     ]
    },
    {
     "name": "stdout",
     "output_type": "stream",
     "text": [
      "R2: 0.4794956536133169; MAE: 57.37837010787321; MAPE: 1.8831264535791812;\n",
      "---------\n"
     ]
    },
    {
     "name": "stderr",
     "output_type": "stream",
     "text": [
      "100%|██████████| 1/1 [00:01<00:00,  1.84s/it]\n",
      "  0%|          | 0/1 [00:00<?, ?it/s]"
     ]
    },
    {
     "name": "stdout",
     "output_type": "stream",
     "text": [
      "R2: 0.6232880285866722; MAE: 297.09540714615275; MAPE: 0.7745548519787506;\n",
      "---------\n"
     ]
    },
    {
     "name": "stderr",
     "output_type": "stream",
     "text": [
      "100%|██████████| 1/1 [00:01<00:00,  1.49s/it]\n"
     ]
    }
   ],
   "source": [
    "X_val_save, y_val_save = procesing(X_val_save, y_val)"
   ]
  },
  {
   "cell_type": "code",
   "execution_count": 401,
   "metadata": {},
   "outputs": [
    {
     "name": "stderr",
     "output_type": "stream",
     "text": [
      "C:\\Users\\Home\\AppData\\Local\\Temp\\ipykernel_3756\\80899401.py:30: FutureWarning: Downcasting behavior in `replace` is deprecated and will be removed in a future version. To retain the old behavior, explicitly call `result.infer_objects(copy=False)`. To opt-in to the future behavior, set `pd.set_option('future.no_silent_downcasting', True)`\n",
      "  X[col] = X[col].replace(value)\n",
      "c:\\Users\\Home\\Desktop\\Katsuryoku\\Work\\Sigmoid\\Tech\\Examination\\Exam_14_04_2025_3\\venv\\lib\\site-packages\\sklearn\\pipeline.py:62: FutureWarning: This Pipeline instance is not fitted yet. Call 'fit' with appropriate arguments before using other methods such as transform, predict, etc. This will raise an error in 1.8 instead of the current warning.\n",
      "  warnings.warn(\n"
     ]
    }
   ],
   "source": [
    "X_test_save = pipeline.transform(X=X_test)"
   ]
  },
  {
   "cell_type": "code",
   "execution_count": 402,
   "metadata": {},
   "outputs": [
    {
     "name": "stderr",
     "output_type": "stream",
     "text": [
      "  0%|          | 0/1 [00:00<?, ?it/s]"
     ]
    },
    {
     "name": "stdout",
     "output_type": "stream",
     "text": [
      "R2: 0.7431523415473962; MAE: 0.36627229621004553; MAPE: 0.18820968892594744;\n",
      "---------\n"
     ]
    },
    {
     "name": "stderr",
     "output_type": "stream",
     "text": [
      "100%|██████████| 1/1 [00:04<00:00,  4.23s/it]\n",
      "  0%|          | 0/1 [00:00<?, ?it/s]"
     ]
    },
    {
     "name": "stdout",
     "output_type": "stream",
     "text": [
      "R2: 0.2294135852289647; MAE: 62.23518529033511; MAPE: 1.6694722146207965;\n",
      "---------\n"
     ]
    },
    {
     "name": "stderr",
     "output_type": "stream",
     "text": [
      "100%|██████████| 1/1 [00:02<00:00,  2.26s/it]\n",
      "  0%|          | 0/1 [00:00<?, ?it/s]"
     ]
    },
    {
     "name": "stdout",
     "output_type": "stream",
     "text": [
      "R2: 0.567243978018642; MAE: 283.41975123206635; MAPE: 0.8858454804369688;\n",
      "---------\n"
     ]
    },
    {
     "name": "stderr",
     "output_type": "stream",
     "text": [
      "100%|██████████| 1/1 [00:01<00:00,  1.67s/it]\n"
     ]
    }
   ],
   "source": [
    "X_test_save, y_test_save = procesing(X_test_save, y_test)"
   ]
  },
  {
   "cell_type": "code",
   "execution_count": 403,
   "metadata": {},
   "outputs": [
    {
     "name": "stderr",
     "output_type": "stream",
     "text": [
      "C:\\Users\\Home\\AppData\\Local\\Temp\\ipykernel_3756\\80899401.py:30: FutureWarning: Downcasting behavior in `replace` is deprecated and will be removed in a future version. To retain the old behavior, explicitly call `result.infer_objects(copy=False)`. To opt-in to the future behavior, set `pd.set_option('future.no_silent_downcasting', True)`\n",
      "  X[col] = X[col].replace(value)\n",
      "c:\\Users\\Home\\Desktop\\Katsuryoku\\Work\\Sigmoid\\Tech\\Examination\\Exam_14_04_2025_3\\venv\\lib\\site-packages\\sklearn\\pipeline.py:62: FutureWarning: This Pipeline instance is not fitted yet. Call 'fit' with appropriate arguments before using other methods such as transform, predict, etc. This will raise an error in 1.8 instead of the current warning.\n",
      "  warnings.warn(\n"
     ]
    }
   ],
   "source": [
    "X_train_proc = pipeline.transform(X_train)"
   ]
  },
  {
   "cell_type": "code",
   "execution_count": 404,
   "metadata": {},
   "outputs": [
    {
     "name": "stderr",
     "output_type": "stream",
     "text": [
      "  0%|          | 0/1 [00:00<?, ?it/s]"
     ]
    },
    {
     "name": "stdout",
     "output_type": "stream",
     "text": [
      "R2: 0.7788934534472245; MAE: 0.3201602537882507; MAPE: 0.1603703747398276;\n",
      "---------\n"
     ]
    },
    {
     "name": "stderr",
     "output_type": "stream",
     "text": [
      "100%|██████████| 1/1 [00:23<00:00, 23.23s/it]\n",
      "  0%|          | 0/1 [00:00<?, ?it/s]"
     ]
    },
    {
     "name": "stdout",
     "output_type": "stream",
     "text": [
      "R2: 0.5530709053201424; MAE: 51.27570027672057; MAPE: 10337490270042.492;\n",
      "---------\n"
     ]
    },
    {
     "name": "stderr",
     "output_type": "stream",
     "text": [
      "100%|██████████| 1/1 [00:09<00:00,  9.85s/it]\n",
      "  0%|          | 0/1 [00:00<?, ?it/s]"
     ]
    },
    {
     "name": "stdout",
     "output_type": "stream",
     "text": [
      "R2: 0.6481116282010992; MAE: 232.85055559250011; MAPE: 0.7187305796019346;\n",
      "---------\n"
     ]
    },
    {
     "name": "stderr",
     "output_type": "stream",
     "text": [
      "100%|██████████| 1/1 [00:07<00:00,  7.42s/it]\n"
     ]
    }
   ],
   "source": [
    "X_train_proc, y_train_proc = procesing(X_train_proc, y_train)"
   ]
  },
  {
   "cell_type": "code",
   "execution_count": 405,
   "metadata": {},
   "outputs": [
    {
     "name": "stderr",
     "output_type": "stream",
     "text": [
      "5it [00:00, 24.93it/s]00:00<?, ?it/s]\n",
      "5it [00:00, 19.37it/s]00:00<00:00,  4.36it/s]\n",
      "5it [00:00, 25.25it/s]00:00<00:00,  3.77it/s]\n",
      "5it [00:00, 25.38it/s]00:00<00:00,  4.06it/s]\n",
      "3it [00:00, 25.68it/s]00:00<00:00,  4.23it/s]\n",
      "100%|██████████| 5/5 [00:01<00:00,  4.54it/s]\n"
     ]
    },
    {
     "data": {
      "image/png": "[encoded data removed]",
      "text/plain": [
       "<Figure size 2500x1500 with 25 Axes>"
      ]
     },
     "metadata": {},
     "output_type": "display_data"
    }
   ],
   "source": [
    "show_boxplots(X_train_proc, rows=5, cols=5)"
   ]
  },
  {
   "cell_type": "code",
   "execution_count": 406,
   "metadata": {},
   "outputs": [
    {
     "data": {
      "image/png": "[encoded data removed]",
      "text/plain": [
       "<Figure size 640x480 with 1 Axes>"
      ]
     },
     "metadata": {},
     "output_type": "display_data"
    }
   ],
   "source": [
    "plt.boxplot(y_train_proc)\n",
    "plt.tight_layout()\n",
    "plt.show()"
   ]
  },
  {
   "cell_type": "code",
   "execution_count": 407,
   "metadata": {},
   "outputs": [],
   "source": [
    "def search_hyper_parameters():\n",
    "    lgb = LGBMRegressor(\n",
    "        n_estimators=200, learning_rate=0.05, random_state=42, n_jobs=-1\n",
    "    )\n",
    "\n",
    "    param_dist = {\n",
    "        \"n_estimators\": [100, 200, 300],\n",
    "        \"num_leaves\": [31, 63, 127],\n",
    "        \"max_depth\": [5, 10, 15, -1],\n",
    "        \"min_child_samples\": [10, 20, 50, 100],\n",
    "        \"feature_fraction\": [0.6, 0.8, 1.0],\n",
    "        \"bagging_fraction\": [0.6, 0.8, 1.0],\n",
    "        \"bagging_freq\": [0, 5, 10],\n",
    "        \"lambda_l1\": [0, 0.1, 1.0, 5.0],\n",
    "        \"lambda_l2\": [0, 0.1, 1.0, 5.0],\n",
    "        \"learning_rate\": [0.01, 0.05, 0.09],\n",
    "    }\n",
    "\n",
    "    search = RandomizedSearchCV(\n",
    "        estimator=lgb,\n",
    "        param_distributions=param_dist,\n",
    "        n_iter=30,\n",
    "        scoring=\"neg_root_mean_squared_error\",\n",
    "        cv=3,\n",
    "        random_state=42,\n",
    "        n_jobs=-1,\n",
    "        verbose=2,\n",
    "    )\n",
    "\n",
    "    X_tr = X_train_proc\n",
    "    y_tr = np.log1p(y_train_proc)\n",
    "\n",
    "    search.fit(\n",
    "        X_tr,\n",
    "        y_tr,\n",
    "        eval_set=[(X_val_save, np.log1p(y_val_save))],\n",
    "        eval_metric=\"rmse\",\n",
    "        callbacks=[early_stopping(stopping_rounds=20), log_evaluation(period=0)],\n",
    "    )\n",
    "\n",
    "    print(\"Best RMSE (log-target):\", -search.best_score_)\n",
    "    print(\"Best params:\", search.best_params_)\n",
    "\n",
    "    best = search.best_estimator_\n",
    "    y_pred = np.expm1(best.predict(X_test_save))\n",
    "    rmse = np.sqrt(mean_squared_error(y_test_save, y_pred))\n",
    "    print(\"RMSE final pe val:\", rmse)"
   ]
  },
  {
   "cell_type": "markdown",
   "metadata": {},
   "source": [
    "Testarea la modelă rapid\n"
   ]
  },
  {
   "cell_type": "code",
   "execution_count": 408,
   "metadata": {},
   "outputs": [
    {
     "name": "stdout",
     "output_type": "stream",
     "text": [
      "Training until validation scores don't improve for 20 rounds\n",
      "Early stopping, best iteration is:\n",
      "[85]\tvalid_0's rmse: 0.00495656\tvalid_0's l2: 2.45675e-05\n",
      "RMSE după cap-and-floor + log: 0.011154614196529479\n"
     ]
    }
   ],
   "source": [
    "model = LGBMRegressor(\n",
    "    **{\n",
    "        \"num_leaves\": 127,\n",
    "        \"n_estimators\": 200,\n",
    "        \"min_child_samples\": 50,\n",
    "        \"max_depth\": -1,\n",
    "        \"learning_rate\": 0.09,\n",
    "        \"lambda_l2\": 5.0,\n",
    "        \"lambda_l1\": 0,\n",
    "        \"feature_fraction\": 0.6,\n",
    "        \"bagging_freq\": 5,\n",
    "        \"bagging_fraction\": 1.0,\n",
    "    }\n",
    ")\n",
    "model.fit(\n",
    "    X_train_proc,\n",
    "    np.log1p(y_train_proc),\n",
    "    eval_set=[(X_val_save, np.log1p(y_val_save))],\n",
    "    eval_metric=\"rmse\",\n",
    "    callbacks=[early_stopping(stopping_rounds=20), log_evaluation(period=0)],\n",
    ")\n",
    "y_pred = np.expm1(model.predict(X_val_save))\n",
    "rmse = np.sqrt(mean_squared_error(y_val_save, y_pred))\n",
    "print(\"RMSE după cap-and-floor + log:\", rmse)"
   ]
  },
  {
   "cell_type": "code",
   "execution_count": 409,
   "metadata": {},
   "outputs": [
    {
     "name": "stdout",
     "output_type": "stream",
     "text": [
      "RMSE după cap-and-floor + log: 0.011636146983751074\n"
     ]
    }
   ],
   "source": [
    "y_pred = np.expm1(model.predict(X_test_save))\n",
    "rmse = np.sqrt(mean_squared_error(y_test_save, y_pred))\n",
    "print(\"RMSE după cap-and-floor + log:\", rmse)"
   ]
  },
  {
   "cell_type": "code",
   "execution_count": 410,
   "metadata": {},
   "outputs": [],
   "source": [
    "class Regressor:\n",
    "    def __init__(self):\n",
    "        self.model = LGBMRegressor(\n",
    "            **{\n",
    "                \"num_leaves\": 127,\n",
    "                \"n_estimators\": 200,\n",
    "                \"min_child_samples\": 50,\n",
    "                \"max_depth\": -1,\n",
    "                \"learning_rate\": 0.09,\n",
    "                \"lambda_l2\": 5.0,\n",
    "                \"lambda_l1\": 0,\n",
    "                \"feature_fraction\": 0.6,\n",
    "                \"bagging_freq\": 5,\n",
    "                \"bagging_fraction\": 1.0,\n",
    "            }\n",
    "        )\n",
    "\n",
    "    def fit(self, X_train, y_train, X_val, y_val):\n",
    "        self.X_train, self.y_train, self.X_val, self.y_val = (\n",
    "            X_train,\n",
    "            y_train,\n",
    "            X_val,\n",
    "            y_val,\n",
    "        )\n",
    "\n",
    "        self.model.fit(\n",
    "            X_train,\n",
    "            np.log1p(y_train),\n",
    "            eval_set=[(X_val, np.log1p(y_val))],\n",
    "            eval_metric=\"rmse\",\n",
    "            callbacks=[early_stopping(stopping_rounds=20), log_evaluation(period=0)],\n",
    "        )\n",
    "\n",
    "    def validation_score(self):\n",
    "        y_pred = np.expm1(self.model.predict(self.X_val))\n",
    "        rmse = np.sqrt(mean_squared_error(self.y_val, y_pred))\n",
    "\n",
    "        return rmse\n",
    "\n",
    "    def score(self, X_test, y_test):\n",
    "        y_pred = np.expm1(self.model.predict(X_test))\n",
    "        rmse = np.sqrt(mean_squared_error(y_test, y_pred))\n",
    "\n",
    "        return rmse"
   ]
  },
  {
   "cell_type": "code",
   "execution_count": 411,
   "metadata": {},
   "outputs": [
    {
     "name": "stdout",
     "output_type": "stream",
     "text": [
      "Training until validation scores don't improve for 20 rounds\n",
      "Early stopping, best iteration is:\n",
      "[85]\tvalid_0's rmse: 0.00495656\tvalid_0's l2: 2.45675e-05\n",
      "0.011154614196529479\n",
      "0.011636146983751074\n"
     ]
    }
   ],
   "source": [
    "regressor = Regressor()\n",
    "regressor.fit(X_train_proc, y_train_proc, X_val_save, y_val_save)\n",
    "print(regressor.validation_score())\n",
    "print(regressor.score(X_test_save, y_test_save))"
   ]
  },
  {
   "cell_type": "markdown",
   "metadata": {},
   "source": [
    "Am ajuns la precizia modelului destul de bună, aș ridicaua mai tare, dar deja se apropie deadline.\n"
   ]
  },
  {
   "cell_type": "code",
   "execution_count": null,
   "metadata": {},
   "outputs": [],
   "source": []
  }
 ],
 "metadata": {
  "kernelspec": {
   "display_name": "venv",
   "language": "python",
   "name": "python3"
  },
  "language_info": {
   "codemirror_mode": {
    "name": "ipython",
    "version": 3
   },
   "file_extension": ".py",
   "mimetype": "text/x-python",
   "name": "python",
   "nbconvert_exporter": "python",
   "pygments_lexer": "ipython3",
   "version": "3.10.7"
  }
 },
 "nbformat": 4,
 "nbformat_minor": 2
}
